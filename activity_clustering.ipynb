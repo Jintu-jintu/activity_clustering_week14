{
 "cells": [
  {
   "cell_type": "code",
   "execution_count": 1,
   "id": "49eff84a",
   "metadata": {},
   "outputs": [],
   "source": [
    "import numpy as np\n",
    "import pandas as pd\n",
    "import seaborn as sns\n",
    "import matplotlib.pyplot as plt\n",
    "import warnings\n",
    "warnings.filterwarnings('ignore')\n",
    "from sklearn import set_config\n",
    "set_config(print_changed_only = False)"
   ]
  },
  {
   "cell_type": "code",
   "execution_count": 2,
   "id": "c203c565",
   "metadata": {},
   "outputs": [
    {
     "data": {
      "text/html": [
       "<div>\n",
       "<style scoped>\n",
       "    .dataframe tbody tr th:only-of-type {\n",
       "        vertical-align: middle;\n",
       "    }\n",
       "\n",
       "    .dataframe tbody tr th {\n",
       "        vertical-align: top;\n",
       "    }\n",
       "\n",
       "    .dataframe thead th {\n",
       "        text-align: right;\n",
       "    }\n",
       "</style>\n",
       "<table border=\"1\" class=\"dataframe\">\n",
       "  <thead>\n",
       "    <tr style=\"text-align: right;\">\n",
       "      <th></th>\n",
       "      <th>country</th>\n",
       "      <th>child_mort</th>\n",
       "      <th>exports</th>\n",
       "      <th>health</th>\n",
       "      <th>imports</th>\n",
       "      <th>income</th>\n",
       "      <th>inflation</th>\n",
       "      <th>life_expec</th>\n",
       "      <th>total_fer</th>\n",
       "      <th>gdpp</th>\n",
       "    </tr>\n",
       "  </thead>\n",
       "  <tbody>\n",
       "    <tr>\n",
       "      <th>0</th>\n",
       "      <td>Afghanistan</td>\n",
       "      <td>90.2</td>\n",
       "      <td>10.0</td>\n",
       "      <td>7.58</td>\n",
       "      <td>44.9</td>\n",
       "      <td>1610</td>\n",
       "      <td>9.44</td>\n",
       "      <td>56.2</td>\n",
       "      <td>5.82</td>\n",
       "      <td>553</td>\n",
       "    </tr>\n",
       "    <tr>\n",
       "      <th>1</th>\n",
       "      <td>Albania</td>\n",
       "      <td>16.6</td>\n",
       "      <td>28.0</td>\n",
       "      <td>6.55</td>\n",
       "      <td>48.6</td>\n",
       "      <td>9930</td>\n",
       "      <td>4.49</td>\n",
       "      <td>76.3</td>\n",
       "      <td>1.65</td>\n",
       "      <td>4090</td>\n",
       "    </tr>\n",
       "    <tr>\n",
       "      <th>2</th>\n",
       "      <td>Algeria</td>\n",
       "      <td>27.3</td>\n",
       "      <td>38.4</td>\n",
       "      <td>4.17</td>\n",
       "      <td>31.4</td>\n",
       "      <td>12900</td>\n",
       "      <td>16.10</td>\n",
       "      <td>76.5</td>\n",
       "      <td>2.89</td>\n",
       "      <td>4460</td>\n",
       "    </tr>\n",
       "    <tr>\n",
       "      <th>3</th>\n",
       "      <td>Angola</td>\n",
       "      <td>119.0</td>\n",
       "      <td>62.3</td>\n",
       "      <td>2.85</td>\n",
       "      <td>42.9</td>\n",
       "      <td>5900</td>\n",
       "      <td>22.40</td>\n",
       "      <td>60.1</td>\n",
       "      <td>6.16</td>\n",
       "      <td>3530</td>\n",
       "    </tr>\n",
       "    <tr>\n",
       "      <th>4</th>\n",
       "      <td>Antigua and Barbuda</td>\n",
       "      <td>10.3</td>\n",
       "      <td>45.5</td>\n",
       "      <td>6.03</td>\n",
       "      <td>58.9</td>\n",
       "      <td>19100</td>\n",
       "      <td>1.44</td>\n",
       "      <td>76.8</td>\n",
       "      <td>2.13</td>\n",
       "      <td>12200</td>\n",
       "    </tr>\n",
       "  </tbody>\n",
       "</table>\n",
       "</div>"
      ],
      "text/plain": [
       "               country  child_mort  exports  health  imports  income  \\\n",
       "0          Afghanistan        90.2     10.0    7.58     44.9    1610   \n",
       "1              Albania        16.6     28.0    6.55     48.6    9930   \n",
       "2              Algeria        27.3     38.4    4.17     31.4   12900   \n",
       "3               Angola       119.0     62.3    2.85     42.9    5900   \n",
       "4  Antigua and Barbuda        10.3     45.5    6.03     58.9   19100   \n",
       "\n",
       "   inflation  life_expec  total_fer   gdpp  \n",
       "0       9.44        56.2       5.82    553  \n",
       "1       4.49        76.3       1.65   4090  \n",
       "2      16.10        76.5       2.89   4460  \n",
       "3      22.40        60.1       6.16   3530  \n",
       "4       1.44        76.8       2.13  12200  "
      ]
     },
     "execution_count": 2,
     "metadata": {},
     "output_type": "execute_result"
    }
   ],
   "source": [
    "data = pd.read_csv(r'D:\\ICT kerala\\week14_unsupervised\\activity\\Country-data.csv')\n",
    "data.head()"
   ]
  },
  {
   "cell_type": "code",
   "execution_count": 3,
   "id": "6bcbc830",
   "metadata": {},
   "outputs": [
    {
     "data": {
      "text/plain": [
       "(167, 10)"
      ]
     },
     "execution_count": 3,
     "metadata": {},
     "output_type": "execute_result"
    }
   ],
   "source": [
    "data.shape"
   ]
  },
  {
   "cell_type": "code",
   "execution_count": 4,
   "id": "32efb70c",
   "metadata": {},
   "outputs": [
    {
     "name": "stdout",
     "output_type": "stream",
     "text": [
      "<class 'pandas.core.frame.DataFrame'>\n",
      "RangeIndex: 167 entries, 0 to 166\n",
      "Data columns (total 10 columns):\n",
      " #   Column      Non-Null Count  Dtype  \n",
      "---  ------      --------------  -----  \n",
      " 0   country     167 non-null    object \n",
      " 1   child_mort  167 non-null    float64\n",
      " 2   exports     167 non-null    float64\n",
      " 3   health      167 non-null    float64\n",
      " 4   imports     167 non-null    float64\n",
      " 5   income      167 non-null    int64  \n",
      " 6   inflation   167 non-null    float64\n",
      " 7   life_expec  167 non-null    float64\n",
      " 8   total_fer   167 non-null    float64\n",
      " 9   gdpp        167 non-null    int64  \n",
      "dtypes: float64(7), int64(2), object(1)\n",
      "memory usage: 13.2+ KB\n"
     ]
    }
   ],
   "source": [
    "data.info()"
   ]
  },
  {
   "cell_type": "code",
   "execution_count": 5,
   "id": "853e3a80",
   "metadata": {},
   "outputs": [
    {
     "data": {
      "text/plain": [
       "country       0\n",
       "child_mort    0\n",
       "exports       0\n",
       "health        0\n",
       "imports       0\n",
       "income        0\n",
       "inflation     0\n",
       "life_expec    0\n",
       "total_fer     0\n",
       "gdpp          0\n",
       "dtype: int64"
      ]
     },
     "execution_count": 5,
     "metadata": {},
     "output_type": "execute_result"
    }
   ],
   "source": [
    "data.isna().sum()"
   ]
  },
  {
   "cell_type": "code",
   "execution_count": 6,
   "id": "59a67c6d",
   "metadata": {},
   "outputs": [
    {
     "data": {
      "text/html": [
       "<div>\n",
       "<style scoped>\n",
       "    .dataframe tbody tr th:only-of-type {\n",
       "        vertical-align: middle;\n",
       "    }\n",
       "\n",
       "    .dataframe tbody tr th {\n",
       "        vertical-align: top;\n",
       "    }\n",
       "\n",
       "    .dataframe thead th {\n",
       "        text-align: right;\n",
       "    }\n",
       "</style>\n",
       "<table border=\"1\" class=\"dataframe\">\n",
       "  <thead>\n",
       "    <tr style=\"text-align: right;\">\n",
       "      <th></th>\n",
       "      <th>child_mort</th>\n",
       "      <th>exports</th>\n",
       "      <th>health</th>\n",
       "      <th>imports</th>\n",
       "      <th>income</th>\n",
       "      <th>inflation</th>\n",
       "      <th>life_expec</th>\n",
       "      <th>total_fer</th>\n",
       "      <th>gdpp</th>\n",
       "    </tr>\n",
       "  </thead>\n",
       "  <tbody>\n",
       "    <tr>\n",
       "      <th>count</th>\n",
       "      <td>167.000000</td>\n",
       "      <td>167.000000</td>\n",
       "      <td>167.000000</td>\n",
       "      <td>167.000000</td>\n",
       "      <td>167.000000</td>\n",
       "      <td>167.000000</td>\n",
       "      <td>167.000000</td>\n",
       "      <td>167.000000</td>\n",
       "      <td>167.000000</td>\n",
       "    </tr>\n",
       "    <tr>\n",
       "      <th>mean</th>\n",
       "      <td>38.270060</td>\n",
       "      <td>41.108976</td>\n",
       "      <td>6.815689</td>\n",
       "      <td>46.890215</td>\n",
       "      <td>17144.688623</td>\n",
       "      <td>7.781832</td>\n",
       "      <td>70.555689</td>\n",
       "      <td>2.947964</td>\n",
       "      <td>12964.155689</td>\n",
       "    </tr>\n",
       "    <tr>\n",
       "      <th>std</th>\n",
       "      <td>40.328931</td>\n",
       "      <td>27.412010</td>\n",
       "      <td>2.746837</td>\n",
       "      <td>24.209589</td>\n",
       "      <td>19278.067698</td>\n",
       "      <td>10.570704</td>\n",
       "      <td>8.893172</td>\n",
       "      <td>1.513848</td>\n",
       "      <td>18328.704809</td>\n",
       "    </tr>\n",
       "    <tr>\n",
       "      <th>min</th>\n",
       "      <td>2.600000</td>\n",
       "      <td>0.109000</td>\n",
       "      <td>1.810000</td>\n",
       "      <td>0.065900</td>\n",
       "      <td>609.000000</td>\n",
       "      <td>-4.210000</td>\n",
       "      <td>32.100000</td>\n",
       "      <td>1.150000</td>\n",
       "      <td>231.000000</td>\n",
       "    </tr>\n",
       "    <tr>\n",
       "      <th>25%</th>\n",
       "      <td>8.250000</td>\n",
       "      <td>23.800000</td>\n",
       "      <td>4.920000</td>\n",
       "      <td>30.200000</td>\n",
       "      <td>3355.000000</td>\n",
       "      <td>1.810000</td>\n",
       "      <td>65.300000</td>\n",
       "      <td>1.795000</td>\n",
       "      <td>1330.000000</td>\n",
       "    </tr>\n",
       "    <tr>\n",
       "      <th>50%</th>\n",
       "      <td>19.300000</td>\n",
       "      <td>35.000000</td>\n",
       "      <td>6.320000</td>\n",
       "      <td>43.300000</td>\n",
       "      <td>9960.000000</td>\n",
       "      <td>5.390000</td>\n",
       "      <td>73.100000</td>\n",
       "      <td>2.410000</td>\n",
       "      <td>4660.000000</td>\n",
       "    </tr>\n",
       "    <tr>\n",
       "      <th>75%</th>\n",
       "      <td>62.100000</td>\n",
       "      <td>51.350000</td>\n",
       "      <td>8.600000</td>\n",
       "      <td>58.750000</td>\n",
       "      <td>22800.000000</td>\n",
       "      <td>10.750000</td>\n",
       "      <td>76.800000</td>\n",
       "      <td>3.880000</td>\n",
       "      <td>14050.000000</td>\n",
       "    </tr>\n",
       "    <tr>\n",
       "      <th>max</th>\n",
       "      <td>208.000000</td>\n",
       "      <td>200.000000</td>\n",
       "      <td>17.900000</td>\n",
       "      <td>174.000000</td>\n",
       "      <td>125000.000000</td>\n",
       "      <td>104.000000</td>\n",
       "      <td>82.800000</td>\n",
       "      <td>7.490000</td>\n",
       "      <td>105000.000000</td>\n",
       "    </tr>\n",
       "  </tbody>\n",
       "</table>\n",
       "</div>"
      ],
      "text/plain": [
       "       child_mort     exports      health     imports         income  \\\n",
       "count  167.000000  167.000000  167.000000  167.000000     167.000000   \n",
       "mean    38.270060   41.108976    6.815689   46.890215   17144.688623   \n",
       "std     40.328931   27.412010    2.746837   24.209589   19278.067698   \n",
       "min      2.600000    0.109000    1.810000    0.065900     609.000000   \n",
       "25%      8.250000   23.800000    4.920000   30.200000    3355.000000   \n",
       "50%     19.300000   35.000000    6.320000   43.300000    9960.000000   \n",
       "75%     62.100000   51.350000    8.600000   58.750000   22800.000000   \n",
       "max    208.000000  200.000000   17.900000  174.000000  125000.000000   \n",
       "\n",
       "        inflation  life_expec   total_fer           gdpp  \n",
       "count  167.000000  167.000000  167.000000     167.000000  \n",
       "mean     7.781832   70.555689    2.947964   12964.155689  \n",
       "std     10.570704    8.893172    1.513848   18328.704809  \n",
       "min     -4.210000   32.100000    1.150000     231.000000  \n",
       "25%      1.810000   65.300000    1.795000    1330.000000  \n",
       "50%      5.390000   73.100000    2.410000    4660.000000  \n",
       "75%     10.750000   76.800000    3.880000   14050.000000  \n",
       "max    104.000000   82.800000    7.490000  105000.000000  "
      ]
     },
     "execution_count": 6,
     "metadata": {},
     "output_type": "execute_result"
    }
   ],
   "source": [
    "data.describe()"
   ]
  },
  {
   "cell_type": "markdown",
   "id": "587e8336",
   "metadata": {},
   "source": [
    "Checking the correlation between variables"
   ]
  },
  {
   "cell_type": "code",
   "execution_count": 7,
   "id": "ddf2f2e2",
   "metadata": {},
   "outputs": [
    {
     "data": {
      "text/plain": [
       "<AxesSubplot:>"
      ]
     },
     "execution_count": 7,
     "metadata": {},
     "output_type": "execute_result"
    },
    {
     "data": {
      "image/png": "[encoded data removed]",
      "text/plain": [
       "<Figure size 720x504 with 2 Axes>"
      ]
     },
     "metadata": {
      "needs_background": "light"
     },
     "output_type": "display_data"
    }
   ],
   "source": [
    "corr_matrix = data.corr()\n",
    "plt.figure(figsize = (10,7))\n",
    "sns.heatmap(corr_matrix, annot = True)"
   ]
  },
  {
   "cell_type": "markdown",
   "id": "b4b35127",
   "metadata": {},
   "source": [
    "Some variables are highly correlated.We can solve this issue by PCA"
   ]
  },
  {
   "cell_type": "markdown",
   "id": "d312c3fd",
   "metadata": {},
   "source": [
    "### Outlier Analysis"
   ]
  },
  {
   "cell_type": "markdown",
   "id": "d65288bb",
   "metadata": {},
   "source": [
    "Plotting boxplots to see how values in each columns are distributed"
   ]
  },
  {
   "cell_type": "code",
   "execution_count": 8,
   "id": "5fb1275e",
   "metadata": {},
   "outputs": [
    {
     "data": {
      "text/plain": [
       "Index(['country', 'child_mort', 'exports', 'health', 'imports', 'income',\n",
       "       'inflation', 'life_expec', 'total_fer', 'gdpp'],\n",
       "      dtype='object')"
      ]
     },
     "execution_count": 8,
     "metadata": {},
     "output_type": "execute_result"
    }
   ],
   "source": [
    "data.columns"
   ]
  },
  {
   "cell_type": "code",
   "execution_count": 9,
   "id": "e8eefffd",
   "metadata": {},
   "outputs": [
    {
     "data": {
      "image/png": "[encoded data removed]",
      "text/plain": [
       "<Figure size 1080x720 with 9 Axes>"
      ]
     },
     "metadata": {
      "needs_background": "light"
     },
     "output_type": "display_data"
    }
   ],
   "source": [
    "fig, ax = plt.subplots(3, 3, figsize = (15,10))\n",
    "\n",
    "plt1 = sns.boxplot(data['child_mort'], ax = ax[0,0])\n",
    "plt2 = sns.boxplot(data['exports'], ax = ax[0,1])\n",
    "plt3 = sns.boxplot(data['imports'], ax = ax[0,2])\n",
    "plt4 = sns.boxplot(data['health'], ax = ax[1,0])\n",
    "plt5 = sns.boxplot(data['income'], ax = ax[1,1])\n",
    "plt6 = sns.boxplot(data['inflation'], ax = ax[1,2])\n",
    "plt7 = sns.boxplot(data['life_expec'], ax = ax[2,0])\n",
    "plt8 = sns.boxplot(data['total_fer'], ax = ax[2,1])\n",
    "plt9 = sns.boxplot(data['gdpp'], ax = ax[2,2])\n",
    "\n",
    "plt.tight_layout()"
   ]
  },
  {
   "cell_type": "markdown",
   "id": "9f9a3a08",
   "metadata": {},
   "source": [
    "Before manipulating data, we will save one copy of the original data"
   ]
  },
  {
   "cell_type": "code",
   "execution_count": 10,
   "id": "ac5664bf",
   "metadata": {},
   "outputs": [],
   "source": [
    "data1 = data.copy()"
   ]
  },
  {
   "cell_type": "markdown",
   "id": "6f462a00",
   "metadata": {},
   "source": [
    "There are a number of outliers in the data\n",
    "\n",
    "Keeping in mind we need to identify backward countries based on socio economic and health factors, we will cap the outliers to values accordingly for analysis"
   ]
  },
  {
   "cell_type": "code",
   "execution_count": 11,
   "id": "6c8077ec",
   "metadata": {},
   "outputs": [],
   "source": [
    "def outlier_replace(data, var):\n",
    "    percentiles = data[var].quantile([0.05, 0.95]).values\n",
    "    data[var][data[var] <= percentiles[0]] = percentiles[0]\n",
    "    data[var][data[var] >= percentiles[1]] = percentiles[1]"
   ]
  },
  {
   "cell_type": "code",
   "execution_count": 12,
   "id": "76f0896e",
   "metadata": {},
   "outputs": [],
   "source": [
    "for x in data1.drop(['country'], axis = 1).columns:\n",
    "    outlier_replace(data1, x)"
   ]
  },
  {
   "cell_type": "code",
   "execution_count": 13,
   "id": "d7a20827",
   "metadata": {},
   "outputs": [
    {
     "data": {
      "image/png": "[encoded data removed]",
      "text/plain": [
       "<Figure size 1080x720 with 9 Axes>"
      ]
     },
     "metadata": {
      "needs_background": "light"
     },
     "output_type": "display_data"
    }
   ],
   "source": [
    "fig, ax = plt.subplots(3, 3, figsize = (15,10))\n",
    "\n",
    "plt1 = sns.boxplot(data1['child_mort'], ax = ax[0,0])\n",
    "plt2 = sns.boxplot(data1['exports'], ax = ax[0,1])\n",
    "plt3 = sns.boxplot(data1['imports'], ax = ax[0,2])\n",
    "plt4 = sns.boxplot(data1['health'], ax = ax[1,0])\n",
    "plt5 = sns.boxplot(data1['income'], ax = ax[1,1])\n",
    "plt6 = sns.boxplot(data1['inflation'], ax = ax[1,2])\n",
    "plt7 = sns.boxplot(data1['life_expec'], ax = ax[2,0])\n",
    "plt8 = sns.boxplot(data1['total_fer'], ax = ax[2,1])\n",
    "plt9 = sns.boxplot(data1['gdpp'], ax = ax[2,2])\n",
    "\n",
    "plt.tight_layout()"
   ]
  },
  {
   "cell_type": "markdown",
   "id": "a8be0562",
   "metadata": {},
   "source": [
    "## Scaling the Data"
   ]
  },
  {
   "cell_type": "code",
   "execution_count": 14,
   "id": "2a8c7852",
   "metadata": {},
   "outputs": [],
   "source": [
    "from sklearn.preprocessing import StandardScaler\n",
    "\n",
    "scaler = StandardScaler()\n",
    "var = data1.drop(['country'], axis = 1).columns\n",
    "data1[var] = scaler.fit_transform(data1[var])"
   ]
  },
  {
   "cell_type": "code",
   "execution_count": 15,
   "id": "833c8537",
   "metadata": {},
   "outputs": [
    {
     "data": {
      "text/html": [
       "<div>\n",
       "<style scoped>\n",
       "    .dataframe tbody tr th:only-of-type {\n",
       "        vertical-align: middle;\n",
       "    }\n",
       "\n",
       "    .dataframe tbody tr th {\n",
       "        vertical-align: top;\n",
       "    }\n",
       "\n",
       "    .dataframe thead th {\n",
       "        text-align: right;\n",
       "    }\n",
       "</style>\n",
       "<table border=\"1\" class=\"dataframe\">\n",
       "  <thead>\n",
       "    <tr style=\"text-align: right;\">\n",
       "      <th></th>\n",
       "      <th>child_mort</th>\n",
       "      <th>exports</th>\n",
       "      <th>health</th>\n",
       "      <th>imports</th>\n",
       "      <th>income</th>\n",
       "      <th>inflation</th>\n",
       "      <th>life_expec</th>\n",
       "      <th>total_fer</th>\n",
       "      <th>gdpp</th>\n",
       "    </tr>\n",
       "  </thead>\n",
       "  <tbody>\n",
       "    <tr>\n",
       "      <th>count</th>\n",
       "      <td>1.670000e+02</td>\n",
       "      <td>1.670000e+02</td>\n",
       "      <td>1.670000e+02</td>\n",
       "      <td>1.670000e+02</td>\n",
       "      <td>1.670000e+02</td>\n",
       "      <td>1.670000e+02</td>\n",
       "      <td>1.670000e+02</td>\n",
       "      <td>1.670000e+02</td>\n",
       "      <td>1.670000e+02</td>\n",
       "    </tr>\n",
       "    <tr>\n",
       "      <th>mean</th>\n",
       "      <td>-1.861452e-16</td>\n",
       "      <td>-2.194685e-16</td>\n",
       "      <td>3.533434e-16</td>\n",
       "      <td>6.648042e-17</td>\n",
       "      <td>9.307259e-17</td>\n",
       "      <td>-2.659217e-17</td>\n",
       "      <td>5.158881e-16</td>\n",
       "      <td>7.445807e-17</td>\n",
       "      <td>-3.722904e-17</td>\n",
       "    </tr>\n",
       "    <tr>\n",
       "      <th>std</th>\n",
       "      <td>1.003008e+00</td>\n",
       "      <td>1.003008e+00</td>\n",
       "      <td>1.003008e+00</td>\n",
       "      <td>1.003008e+00</td>\n",
       "      <td>1.003008e+00</td>\n",
       "      <td>1.003008e+00</td>\n",
       "      <td>1.003008e+00</td>\n",
       "      <td>1.003008e+00</td>\n",
       "      <td>1.003008e+00</td>\n",
       "    </tr>\n",
       "    <tr>\n",
       "      <th>min</th>\n",
       "      <td>-9.241608e-01</td>\n",
       "      <td>-1.371444e+00</td>\n",
       "      <td>-1.576866e+00</td>\n",
       "      <td>-1.492398e+00</td>\n",
       "      <td>-9.875341e-01</td>\n",
       "      <td>-1.092775e+00</td>\n",
       "      <td>-1.877711e+00</td>\n",
       "      <td>-1.068648e+00</td>\n",
       "      <td>-7.636387e-01</td>\n",
       "    </tr>\n",
       "    <tr>\n",
       "      <th>25%</th>\n",
       "      <td>-7.914198e-01</td>\n",
       "      <td>-7.823314e-01</td>\n",
       "      <td>-7.326018e-01</td>\n",
       "      <td>-8.309792e-01</td>\n",
       "      <td>-8.420777e-01</td>\n",
       "      <td>-8.326266e-01</td>\n",
       "      <td>-6.899543e-01</td>\n",
       "      <td>-7.862117e-01</td>\n",
       "      <td>-7.064476e-01</td>\n",
       "    </tr>\n",
       "    <tr>\n",
       "      <th>50%</th>\n",
       "      <td>-4.852009e-01</td>\n",
       "      <td>-2.174289e-01</td>\n",
       "      <td>-1.774259e-01</td>\n",
       "      <td>-1.131180e-01</td>\n",
       "      <td>-3.935533e-01</td>\n",
       "      <td>-2.600642e-01</td>\n",
       "      <td>2.832076e-01</td>\n",
       "      <td>-3.573268e-01</td>\n",
       "      <td>-4.860492e-01</td>\n",
       "    </tr>\n",
       "    <tr>\n",
       "      <th>75%</th>\n",
       "      <td>7.008775e-01</td>\n",
       "      <td>6.072279e-01</td>\n",
       "      <td>7.267176e-01</td>\n",
       "      <td>7.335198e-01</td>\n",
       "      <td>4.783701e-01</td>\n",
       "      <td>5.971801e-01</td>\n",
       "      <td>7.448357e-01</td>\n",
       "      <td>6.678127e-01</td>\n",
       "      <td>1.354345e-01</td>\n",
       "    </tr>\n",
       "    <tr>\n",
       "      <th>max</th>\n",
       "      <td>2.194560e+00</td>\n",
       "      <td>2.081018e+00</td>\n",
       "      <td>1.904484e+00</td>\n",
       "      <td>1.960460e+00</td>\n",
       "      <td>2.209315e+00</td>\n",
       "      <td>2.215708e+00</td>\n",
       "      <td>1.318752e+00</td>\n",
       "      <td>2.049310e+00</td>\n",
       "      <td>2.422812e+00</td>\n",
       "    </tr>\n",
       "  </tbody>\n",
       "</table>\n",
       "</div>"
      ],
      "text/plain": [
       "         child_mort       exports        health       imports        income  \\\n",
       "count  1.670000e+02  1.670000e+02  1.670000e+02  1.670000e+02  1.670000e+02   \n",
       "mean  -1.861452e-16 -2.194685e-16  3.533434e-16  6.648042e-17  9.307259e-17   \n",
       "std    1.003008e+00  1.003008e+00  1.003008e+00  1.003008e+00  1.003008e+00   \n",
       "min   -9.241608e-01 -1.371444e+00 -1.576866e+00 -1.492398e+00 -9.875341e-01   \n",
       "25%   -7.914198e-01 -7.823314e-01 -7.326018e-01 -8.309792e-01 -8.420777e-01   \n",
       "50%   -4.852009e-01 -2.174289e-01 -1.774259e-01 -1.131180e-01 -3.935533e-01   \n",
       "75%    7.008775e-01  6.072279e-01  7.267176e-01  7.335198e-01  4.783701e-01   \n",
       "max    2.194560e+00  2.081018e+00  1.904484e+00  1.960460e+00  2.209315e+00   \n",
       "\n",
       "          inflation    life_expec     total_fer          gdpp  \n",
       "count  1.670000e+02  1.670000e+02  1.670000e+02  1.670000e+02  \n",
       "mean  -2.659217e-17  5.158881e-16  7.445807e-17 -3.722904e-17  \n",
       "std    1.003008e+00  1.003008e+00  1.003008e+00  1.003008e+00  \n",
       "min   -1.092775e+00 -1.877711e+00 -1.068648e+00 -7.636387e-01  \n",
       "25%   -8.326266e-01 -6.899543e-01 -7.862117e-01 -7.064476e-01  \n",
       "50%   -2.600642e-01  2.832076e-01 -3.573268e-01 -4.860492e-01  \n",
       "75%    5.971801e-01  7.448357e-01  6.678127e-01  1.354345e-01  \n",
       "max    2.215708e+00  1.318752e+00  2.049310e+00  2.422812e+00  "
      ]
     },
     "execution_count": 15,
     "metadata": {},
     "output_type": "execute_result"
    }
   ],
   "source": [
    "data1.describe()"
   ]
  },
  {
   "cell_type": "markdown",
   "id": "6354b826",
   "metadata": {},
   "source": [
    "## PCA on the data"
   ]
  },
  {
   "cell_type": "code",
   "execution_count": 16,
   "id": "e6c1095d",
   "metadata": {},
   "outputs": [],
   "source": [
    "from sklearn.decomposition import PCA\n",
    "\n",
    "pca = PCA(random_state = 42)"
   ]
  },
  {
   "cell_type": "markdown",
   "id": "4db642b5",
   "metadata": {},
   "source": [
    "Putting feature variable to x and response variable to y"
   ]
  },
  {
   "cell_type": "code",
   "execution_count": 17,
   "id": "d7d6befb",
   "metadata": {},
   "outputs": [],
   "source": [
    "x = data1.drop(['country'], axis = 1)\n",
    "y = data1['country']"
   ]
  },
  {
   "cell_type": "code",
   "execution_count": 18,
   "id": "db27c6a3",
   "metadata": {},
   "outputs": [
    {
     "data": {
      "text/plain": [
       "PCA(copy=True, iterated_power='auto', n_components=None, random_state=42,\n",
       "    svd_solver='auto', tol=0.0, whiten=False)"
      ]
     },
     "execution_count": 18,
     "metadata": {},
     "output_type": "execute_result"
    }
   ],
   "source": [
    "pca.fit(x)"
   ]
  },
  {
   "cell_type": "code",
   "execution_count": 19,
   "id": "29cd62d2",
   "metadata": {},
   "outputs": [
    {
     "data": {
      "text/plain": [
       "9"
      ]
     },
     "execution_count": 19,
     "metadata": {},
     "output_type": "execute_result"
    }
   ],
   "source": [
    "pca.n_components_"
   ]
  },
  {
   "cell_type": "markdown",
   "id": "22831a52",
   "metadata": {},
   "source": [
    "### Screeplot"
   ]
  },
  {
   "cell_type": "markdown",
   "id": "b9d9657f",
   "metadata": {},
   "source": [
    "To find the optimum no.of components"
   ]
  },
  {
   "cell_type": "code",
   "execution_count": 20,
   "id": "08ca4cda",
   "metadata": {},
   "outputs": [
    {
     "data": {
      "image/png": "[encoded data removed]",
      "text/plain": [
       "<Figure size 864x576 with 1 Axes>"
      ]
     },
     "metadata": {
      "needs_background": "light"
     },
     "output_type": "display_data"
    }
   ],
   "source": [
    "# plotting the cumulative variance against the no.of components\n",
    "\n",
    "fig = plt.figure(figsize = (12,8))\n",
    "plt.plot(np.arange(1,10), np.cumsum(pca.explained_variance_ratio_))\n",
    "plt.xticks(np.arange(1,10, step=1))\n",
    "plt.ylim(0.0, 1.1)\n",
    "plt.axhline(y = 0.95, color = 'r', linestyle = '-')\n",
    "plt.text(1, 0.85, '95% cut-off threshold', color = 'red', fontsize = 16)\n",
    "plt.xlabel('no.of components')\n",
    "plt.ylabel('explained variance')\n",
    "plt.show()"
   ]
  },
  {
   "cell_type": "markdown",
   "id": "ded03c2b",
   "metadata": {},
   "source": [
    "From figure 5 components are enough to explain the 95% variance in the dataset"
   ]
  },
  {
   "cell_type": "code",
   "execution_count": 21,
   "id": "feae6c66",
   "metadata": {},
   "outputs": [],
   "source": [
    "# Using the incremental PCA for efficiency(saves a lot of time on larger datasets)\n",
    "\n",
    "from sklearn.decomposition import PCA\n",
    "pca_final = PCA(n_components = 5)"
   ]
  },
  {
   "cell_type": "code",
   "execution_count": 22,
   "id": "10ae2f72",
   "metadata": {},
   "outputs": [
    {
     "data": {
      "text/plain": [
       "(167, 5)"
      ]
     },
     "execution_count": 22,
     "metadata": {},
     "output_type": "execute_result"
    }
   ],
   "source": [
    "df_pca = pca_final.fit_transform(x)\n",
    "df_pca.shape"
   ]
  },
  {
   "cell_type": "code",
   "execution_count": 23,
   "id": "2e128e93",
   "metadata": {},
   "outputs": [
    {
     "data": {
      "text/html": [
       "<div>\n",
       "<style scoped>\n",
       "    .dataframe tbody tr th:only-of-type {\n",
       "        vertical-align: middle;\n",
       "    }\n",
       "\n",
       "    .dataframe tbody tr th {\n",
       "        vertical-align: top;\n",
       "    }\n",
       "\n",
       "    .dataframe thead th {\n",
       "        text-align: right;\n",
       "    }\n",
       "</style>\n",
       "<table border=\"1\" class=\"dataframe\">\n",
       "  <thead>\n",
       "    <tr style=\"text-align: right;\">\n",
       "      <th></th>\n",
       "      <th>0</th>\n",
       "      <th>1</th>\n",
       "      <th>2</th>\n",
       "      <th>3</th>\n",
       "      <th>4</th>\n",
       "    </tr>\n",
       "  </thead>\n",
       "  <tbody>\n",
       "    <tr>\n",
       "      <th>0</th>\n",
       "      <td>-3.276710</td>\n",
       "      <td>0.384825</td>\n",
       "      <td>-1.061693</td>\n",
       "      <td>0.915760</td>\n",
       "      <td>0.055815</td>\n",
       "    </tr>\n",
       "    <tr>\n",
       "      <th>1</th>\n",
       "      <td>0.482592</td>\n",
       "      <td>0.138345</td>\n",
       "      <td>-0.315498</td>\n",
       "      <td>-1.429981</td>\n",
       "      <td>0.101463</td>\n",
       "    </tr>\n",
       "    <tr>\n",
       "      <th>2</th>\n",
       "      <td>-0.447438</td>\n",
       "      <td>0.492021</td>\n",
       "      <td>1.777013</td>\n",
       "      <td>-0.669628</td>\n",
       "      <td>0.517964</td>\n",
       "    </tr>\n",
       "    <tr>\n",
       "      <th>3</th>\n",
       "      <td>-3.356983</td>\n",
       "      <td>-1.158613</td>\n",
       "      <td>2.059427</td>\n",
       "      <td>1.732923</td>\n",
       "      <td>0.080301</td>\n",
       "    </tr>\n",
       "    <tr>\n",
       "      <th>4</th>\n",
       "      <td>1.244934</td>\n",
       "      <td>-0.702870</td>\n",
       "      <td>-0.223665</td>\n",
       "      <td>-0.743702</td>\n",
       "      <td>-0.444204</td>\n",
       "    </tr>\n",
       "  </tbody>\n",
       "</table>\n",
       "</div>"
      ],
      "text/plain": [
       "          0         1         2         3         4\n",
       "0 -3.276710  0.384825 -1.061693  0.915760  0.055815\n",
       "1  0.482592  0.138345 -0.315498 -1.429981  0.101463\n",
       "2 -0.447438  0.492021  1.777013 -0.669628  0.517964\n",
       "3 -3.356983 -1.158613  2.059427  1.732923  0.080301\n",
       "4  1.244934 -0.702870 -0.223665 -0.743702 -0.444204"
      ]
     },
     "execution_count": 23,
     "metadata": {},
     "output_type": "execute_result"
    }
   ],
   "source": [
    "df_pca = pd.DataFrame(df_pca)\n",
    "df_pca.head()"
   ]
  },
  {
   "cell_type": "code",
   "execution_count": 24,
   "id": "eeb43d95",
   "metadata": {},
   "outputs": [
    {
     "data": {
      "text/plain": [
       "<AxesSubplot:>"
      ]
     },
     "execution_count": 24,
     "metadata": {},
     "output_type": "execute_result"
    },
    {
     "data": {
      "image/png": "[encoded data removed]",
      "text/plain": [
       "<Figure size 432x288 with 2 Axes>"
      ]
     },
     "metadata": {
      "needs_background": "light"
     },
     "output_type": "display_data"
    }
   ],
   "source": [
    "corr_ = df_pca.corr()\n",
    "sns.heatmap(corr_, annot = True)"
   ]
  },
  {
   "cell_type": "markdown",
   "id": "cac16352",
   "metadata": {},
   "source": [
    "## K-Means Clustering"
   ]
  },
  {
   "cell_type": "markdown",
   "id": "7d3c2208",
   "metadata": {},
   "source": [
    "### Elbow Method"
   ]
  },
  {
   "cell_type": "code",
   "execution_count": 25,
   "id": "c0775270",
   "metadata": {},
   "outputs": [
    {
     "name": "stdout",
     "output_type": "stream",
     "text": [
      "[1432.758928888925, 918.4303816547424, 692.6903377274572, 583.6054159795667, 512.3986509688282, 458.849448281538, 422.2001973810011, 372.1252960667981, 335.8101466051239, 317.637925518969]\n"
     ]
    },
    {
     "data": {
      "text/plain": [
       "Text(0, 0.5, 'WCSS')"
      ]
     },
     "execution_count": 25,
     "metadata": {},
     "output_type": "execute_result"
    },
    {
     "data": {
      "image/png": "[encoded data removed]",
      "text/plain": [
       "<Figure size 432x288 with 1 Axes>"
      ]
     },
     "metadata": {
      "needs_background": "light"
     },
     "output_type": "display_data"
    }
   ],
   "source": [
    "from sklearn.cluster import KMeans\n",
    "\n",
    "clusters = range(1,11)\n",
    "wcss = []\n",
    "\n",
    "for k in clusters:\n",
    "    kmeans = KMeans(n_clusters = k, max_iter = 600, precompute_distances = 'auto', n_jobs = 1,\n",
    "                    random_state = 42, init = 'k-means++')\n",
    "    kmeans.fit(df_pca)\n",
    "    wcss.append(kmeans.inertia_)\n",
    "print(wcss)\n",
    "\n",
    "plt.plot(clusters, wcss)\n",
    "plt.title('Elbow Method')\n",
    "plt.xlabel('no.of clusters')\n",
    "plt.ylabel('WCSS')"
   ]
  },
  {
   "cell_type": "markdown",
   "id": "d7c1d3cf",
   "metadata": {},
   "source": [
    "From plot optimum no.of clusters = 3"
   ]
  },
  {
   "cell_type": "code",
   "execution_count": 26,
   "id": "5cc8bba3",
   "metadata": {},
   "outputs": [
    {
     "data": {
      "text/plain": [
       "array([0, 2, 2, 0, 2, 2, 2, 1, 1, 2, 1, 1, 2, 2, 2, 1, 2, 0, 2, 2, 2, 0,\n",
       "       2, 1, 2, 0, 0, 2, 0, 1, 2, 0, 0, 2, 2, 2, 0, 0, 0, 2, 0, 2, 1, 1,\n",
       "       1, 2, 2, 2, 2, 0, 0, 2, 2, 1, 1, 0, 0, 2, 1, 0, 1, 2, 2, 0, 0, 2,\n",
       "       0, 2, 1, 0, 2, 2, 0, 1, 1, 1, 2, 1, 2, 2, 0, 0, 1, 2, 0, 2, 2, 0,\n",
       "       0, 2, 2, 1, 2, 0, 0, 2, 2, 0, 1, 0, 2, 2, 2, 2, 2, 2, 0, 0, 0, 2,\n",
       "       1, 1, 0, 0, 1, 2, 0, 2, 2, 2, 2, 2, 1, 1, 2, 2, 0, 2, 2, 0, 2, 2,\n",
       "       0, 1, 1, 1, 2, 0, 1, 1, 2, 2, 0, 2, 1, 1, 0, 0, 2, 0, 0, 2, 2, 2,\n",
       "       2, 0, 2, 1, 1, 1, 2, 2, 2, 2, 2, 0, 0])"
      ]
     },
     "execution_count": 26,
     "metadata": {},
     "output_type": "execute_result"
    }
   ],
   "source": [
    "km_model = KMeans(n_clusters = 3, max_iter = 600, precompute_distances = 'auto', n_jobs = 1,\n",
    "                    random_state = 42, init = 'k-means++')\n",
    "km_labels = km_model.fit_predict(df_pca)\n",
    "km_labels"
   ]
  },
  {
   "cell_type": "code",
   "execution_count": 27,
   "id": "b9fd7033",
   "metadata": {},
   "outputs": [
    {
     "data": {
      "text/plain": [
       "KMeans(algorithm='auto', copy_x=True, init='k-means++', max_iter=600,\n",
       "       n_clusters=3, n_init=10, n_jobs=1, precompute_distances='auto',\n",
       "       random_state=42, tol=0.0001, verbose=0)"
      ]
     },
     "execution_count": 27,
     "metadata": {},
     "output_type": "execute_result"
    }
   ],
   "source": [
    "km_model"
   ]
  },
  {
   "cell_type": "code",
   "execution_count": 28,
   "id": "2545a73e",
   "metadata": {},
   "outputs": [
    {
     "data": {
      "image/png": "[encoded data removed]",
      "text/plain": [
       "<Figure size 432x288 with 1 Axes>"
      ]
     },
     "metadata": {
      "needs_background": "light"
     },
     "output_type": "display_data"
    }
   ],
   "source": [
    "d = df_pca.values\n",
    "plt.scatter(d[km_labels == 0,0], d[km_labels == 0,1], color = 'red', label = 'cluster1')\n",
    "plt.scatter(d[km_labels == 1,0], d[km_labels == 1,1], color = 'green', label = 'cluster2')\n",
    "plt.scatter(d[km_labels == 2,0], d[km_labels == 2,1], color = 'cyan', label = 'cluster3')\n",
    "plt.legend()\n",
    "plt.show()"
   ]
  },
  {
   "cell_type": "markdown",
   "id": "649f6df8",
   "metadata": {},
   "source": [
    "### Checking the Efficiency"
   ]
  },
  {
   "cell_type": "code",
   "execution_count": 29,
   "id": "7db04e1e",
   "metadata": {},
   "outputs": [],
   "source": [
    "from sklearn.metrics import silhouette_score as ss, davies_bouldin_score as db"
   ]
  },
  {
   "cell_type": "code",
   "execution_count": 30,
   "id": "4dcbef7f",
   "metadata": {},
   "outputs": [
    {
     "name": "stdout",
     "output_type": "stream",
     "text": [
      "Silhouette score =  0.2930625783649584\n",
      "DB index =  1.2217083791266854\n"
     ]
    }
   ],
   "source": [
    "print('Silhouette score = ', ss(df_pca, km_labels))\n",
    "print('DB index = ', db(df_pca, km_labels))"
   ]
  },
  {
   "cell_type": "markdown",
   "id": "d51c30b6",
   "metadata": {},
   "source": [
    "### Identifying the cluster of backward countries"
   ]
  },
  {
   "cell_type": "code",
   "execution_count": 31,
   "id": "d2fed0f2",
   "metadata": {},
   "outputs": [
    {
     "data": {
      "text/html": [
       "<div>\n",
       "<style scoped>\n",
       "    .dataframe tbody tr th:only-of-type {\n",
       "        vertical-align: middle;\n",
       "    }\n",
       "\n",
       "    .dataframe tbody tr th {\n",
       "        vertical-align: top;\n",
       "    }\n",
       "\n",
       "    .dataframe thead th {\n",
       "        text-align: right;\n",
       "    }\n",
       "</style>\n",
       "<table border=\"1\" class=\"dataframe\">\n",
       "  <thead>\n",
       "    <tr style=\"text-align: right;\">\n",
       "      <th></th>\n",
       "      <th>PC1</th>\n",
       "      <th>PC2</th>\n",
       "      <th>PC3</th>\n",
       "      <th>PC4</th>\n",
       "      <th>PC5</th>\n",
       "      <th>cluster_id</th>\n",
       "    </tr>\n",
       "  </thead>\n",
       "  <tbody>\n",
       "    <tr>\n",
       "      <th>0</th>\n",
       "      <td>-3.276710</td>\n",
       "      <td>0.384825</td>\n",
       "      <td>-1.061693</td>\n",
       "      <td>0.915760</td>\n",
       "      <td>0.055815</td>\n",
       "      <td>0</td>\n",
       "    </tr>\n",
       "    <tr>\n",
       "      <th>1</th>\n",
       "      <td>0.482592</td>\n",
       "      <td>0.138345</td>\n",
       "      <td>-0.315498</td>\n",
       "      <td>-1.429981</td>\n",
       "      <td>0.101463</td>\n",
       "      <td>2</td>\n",
       "    </tr>\n",
       "    <tr>\n",
       "      <th>2</th>\n",
       "      <td>-0.447438</td>\n",
       "      <td>0.492021</td>\n",
       "      <td>1.777013</td>\n",
       "      <td>-0.669628</td>\n",
       "      <td>0.517964</td>\n",
       "      <td>2</td>\n",
       "    </tr>\n",
       "    <tr>\n",
       "      <th>3</th>\n",
       "      <td>-3.356983</td>\n",
       "      <td>-1.158613</td>\n",
       "      <td>2.059427</td>\n",
       "      <td>1.732923</td>\n",
       "      <td>0.080301</td>\n",
       "      <td>0</td>\n",
       "    </tr>\n",
       "    <tr>\n",
       "      <th>4</th>\n",
       "      <td>1.244934</td>\n",
       "      <td>-0.702870</td>\n",
       "      <td>-0.223665</td>\n",
       "      <td>-0.743702</td>\n",
       "      <td>-0.444204</td>\n",
       "      <td>2</td>\n",
       "    </tr>\n",
       "  </tbody>\n",
       "</table>\n",
       "</div>"
      ],
      "text/plain": [
       "        PC1       PC2       PC3       PC4       PC5  cluster_id\n",
       "0 -3.276710  0.384825 -1.061693  0.915760  0.055815           0\n",
       "1  0.482592  0.138345 -0.315498 -1.429981  0.101463           2\n",
       "2 -0.447438  0.492021  1.777013 -0.669628  0.517964           2\n",
       "3 -3.356983 -1.158613  2.059427  1.732923  0.080301           0\n",
       "4  1.244934 -0.702870 -0.223665 -0.743702 -0.444204           2"
      ]
     },
     "execution_count": 31,
     "metadata": {},
     "output_type": "execute_result"
    }
   ],
   "source": [
    "df_pca_km = pd.concat([df_pca, pd.Series(km_labels)], axis =1)\n",
    "df_pca_km.columns = ['PC1','PC2', 'PC3','PC4','PC5', 'cluster_id']\n",
    "df_pca_km.head()"
   ]
  },
  {
   "cell_type": "code",
   "execution_count": 32,
   "id": "1c675bae",
   "metadata": {},
   "outputs": [
    {
     "data": {
      "text/html": [
       "<div>\n",
       "<style scoped>\n",
       "    .dataframe tbody tr th:only-of-type {\n",
       "        vertical-align: middle;\n",
       "    }\n",
       "\n",
       "    .dataframe tbody tr th {\n",
       "        vertical-align: top;\n",
       "    }\n",
       "\n",
       "    .dataframe thead th {\n",
       "        text-align: right;\n",
       "    }\n",
       "</style>\n",
       "<table border=\"1\" class=\"dataframe\">\n",
       "  <thead>\n",
       "    <tr style=\"text-align: right;\">\n",
       "      <th></th>\n",
       "      <th>country</th>\n",
       "      <th>PC1</th>\n",
       "      <th>PC2</th>\n",
       "      <th>PC3</th>\n",
       "      <th>PC4</th>\n",
       "      <th>PC5</th>\n",
       "      <th>cluster_id</th>\n",
       "    </tr>\n",
       "  </thead>\n",
       "  <tbody>\n",
       "    <tr>\n",
       "      <th>0</th>\n",
       "      <td>Afghanistan</td>\n",
       "      <td>-3.276710</td>\n",
       "      <td>0.384825</td>\n",
       "      <td>-1.061693</td>\n",
       "      <td>0.915760</td>\n",
       "      <td>0.055815</td>\n",
       "      <td>0</td>\n",
       "    </tr>\n",
       "    <tr>\n",
       "      <th>1</th>\n",
       "      <td>Albania</td>\n",
       "      <td>0.482592</td>\n",
       "      <td>0.138345</td>\n",
       "      <td>-0.315498</td>\n",
       "      <td>-1.429981</td>\n",
       "      <td>0.101463</td>\n",
       "      <td>2</td>\n",
       "    </tr>\n",
       "    <tr>\n",
       "      <th>2</th>\n",
       "      <td>Algeria</td>\n",
       "      <td>-0.447438</td>\n",
       "      <td>0.492021</td>\n",
       "      <td>1.777013</td>\n",
       "      <td>-0.669628</td>\n",
       "      <td>0.517964</td>\n",
       "      <td>2</td>\n",
       "    </tr>\n",
       "    <tr>\n",
       "      <th>3</th>\n",
       "      <td>Angola</td>\n",
       "      <td>-3.356983</td>\n",
       "      <td>-1.158613</td>\n",
       "      <td>2.059427</td>\n",
       "      <td>1.732923</td>\n",
       "      <td>0.080301</td>\n",
       "      <td>0</td>\n",
       "    </tr>\n",
       "    <tr>\n",
       "      <th>4</th>\n",
       "      <td>Antigua and Barbuda</td>\n",
       "      <td>1.244934</td>\n",
       "      <td>-0.702870</td>\n",
       "      <td>-0.223665</td>\n",
       "      <td>-0.743702</td>\n",
       "      <td>-0.444204</td>\n",
       "      <td>2</td>\n",
       "    </tr>\n",
       "  </tbody>\n",
       "</table>\n",
       "</div>"
      ],
      "text/plain": [
       "               country       PC1       PC2       PC3       PC4       PC5  \\\n",
       "0          Afghanistan -3.276710  0.384825 -1.061693  0.915760  0.055815   \n",
       "1              Albania  0.482592  0.138345 -0.315498 -1.429981  0.101463   \n",
       "2              Algeria -0.447438  0.492021  1.777013 -0.669628  0.517964   \n",
       "3               Angola -3.356983 -1.158613  2.059427  1.732923  0.080301   \n",
       "4  Antigua and Barbuda  1.244934 -0.702870 -0.223665 -0.743702 -0.444204   \n",
       "\n",
       "   cluster_id  \n",
       "0           0  \n",
       "1           2  \n",
       "2           2  \n",
       "3           0  \n",
       "4           2  "
      ]
     },
     "execution_count": 32,
     "metadata": {},
     "output_type": "execute_result"
    }
   ],
   "source": [
    "pca_cluster_km = pd.concat([data1['country'], df_pca_km], axis = 1, join = 'outer',\n",
    "                           ignore_index = False, keys = None, levels = None, names = None,\n",
    "                          verify_integrity = False, sort = None, copy = True)\n",
    "pca_cluster_km.head()"
   ]
  },
  {
   "cell_type": "code",
   "execution_count": 33,
   "id": "e988681c",
   "metadata": {},
   "outputs": [
    {
     "data": {
      "text/html": [
       "<div>\n",
       "<style scoped>\n",
       "    .dataframe tbody tr th:only-of-type {\n",
       "        vertical-align: middle;\n",
       "    }\n",
       "\n",
       "    .dataframe tbody tr th {\n",
       "        vertical-align: top;\n",
       "    }\n",
       "\n",
       "    .dataframe thead th {\n",
       "        text-align: right;\n",
       "    }\n",
       "</style>\n",
       "<table border=\"1\" class=\"dataframe\">\n",
       "  <thead>\n",
       "    <tr style=\"text-align: right;\">\n",
       "      <th></th>\n",
       "      <th>country</th>\n",
       "      <th>cluster_id</th>\n",
       "      <th>child_mort</th>\n",
       "      <th>exports</th>\n",
       "      <th>health</th>\n",
       "      <th>imports</th>\n",
       "      <th>income</th>\n",
       "      <th>inflation</th>\n",
       "      <th>life_expec</th>\n",
       "      <th>total_fer</th>\n",
       "      <th>gdpp</th>\n",
       "    </tr>\n",
       "  </thead>\n",
       "  <tbody>\n",
       "    <tr>\n",
       "      <th>0</th>\n",
       "      <td>Afghanistan</td>\n",
       "      <td>0</td>\n",
       "      <td>90.2</td>\n",
       "      <td>10.0</td>\n",
       "      <td>7.58</td>\n",
       "      <td>44.9</td>\n",
       "      <td>1610</td>\n",
       "      <td>9.44</td>\n",
       "      <td>56.2</td>\n",
       "      <td>5.82</td>\n",
       "      <td>553</td>\n",
       "    </tr>\n",
       "    <tr>\n",
       "      <th>1</th>\n",
       "      <td>Albania</td>\n",
       "      <td>2</td>\n",
       "      <td>16.6</td>\n",
       "      <td>28.0</td>\n",
       "      <td>6.55</td>\n",
       "      <td>48.6</td>\n",
       "      <td>9930</td>\n",
       "      <td>4.49</td>\n",
       "      <td>76.3</td>\n",
       "      <td>1.65</td>\n",
       "      <td>4090</td>\n",
       "    </tr>\n",
       "    <tr>\n",
       "      <th>2</th>\n",
       "      <td>Algeria</td>\n",
       "      <td>2</td>\n",
       "      <td>27.3</td>\n",
       "      <td>38.4</td>\n",
       "      <td>4.17</td>\n",
       "      <td>31.4</td>\n",
       "      <td>12900</td>\n",
       "      <td>16.10</td>\n",
       "      <td>76.5</td>\n",
       "      <td>2.89</td>\n",
       "      <td>4460</td>\n",
       "    </tr>\n",
       "    <tr>\n",
       "      <th>3</th>\n",
       "      <td>Angola</td>\n",
       "      <td>0</td>\n",
       "      <td>119.0</td>\n",
       "      <td>62.3</td>\n",
       "      <td>2.85</td>\n",
       "      <td>42.9</td>\n",
       "      <td>5900</td>\n",
       "      <td>22.40</td>\n",
       "      <td>60.1</td>\n",
       "      <td>6.16</td>\n",
       "      <td>3530</td>\n",
       "    </tr>\n",
       "    <tr>\n",
       "      <th>4</th>\n",
       "      <td>Antigua and Barbuda</td>\n",
       "      <td>2</td>\n",
       "      <td>10.3</td>\n",
       "      <td>45.5</td>\n",
       "      <td>6.03</td>\n",
       "      <td>58.9</td>\n",
       "      <td>19100</td>\n",
       "      <td>1.44</td>\n",
       "      <td>76.8</td>\n",
       "      <td>2.13</td>\n",
       "      <td>12200</td>\n",
       "    </tr>\n",
       "  </tbody>\n",
       "</table>\n",
       "</div>"
      ],
      "text/plain": [
       "               country  cluster_id  child_mort  exports  health  imports  \\\n",
       "0          Afghanistan           0        90.2     10.0    7.58     44.9   \n",
       "1              Albania           2        16.6     28.0    6.55     48.6   \n",
       "2              Algeria           2        27.3     38.4    4.17     31.4   \n",
       "3               Angola           0       119.0     62.3    2.85     42.9   \n",
       "4  Antigua and Barbuda           2        10.3     45.5    6.03     58.9   \n",
       "\n",
       "   income  inflation  life_expec  total_fer   gdpp  \n",
       "0    1610       9.44        56.2       5.82    553  \n",
       "1    9930       4.49        76.3       1.65   4090  \n",
       "2   12900      16.10        76.5       2.89   4460  \n",
       "3    5900      22.40        60.1       6.16   3530  \n",
       "4   19100       1.44        76.8       2.13  12200  "
      ]
     },
     "execution_count": 33,
     "metadata": {},
     "output_type": "execute_result"
    }
   ],
   "source": [
    "clustered_data_km = pca_cluster_km[['country', 'cluster_id']].merge(data, on = 'country')\n",
    "clustered_data_km.head()"
   ]
  },
  {
   "cell_type": "code",
   "execution_count": 34,
   "id": "367b81a9",
   "metadata": {},
   "outputs": [
    {
     "data": {
      "text/html": [
       "<div>\n",
       "<style scoped>\n",
       "    .dataframe tbody tr th:only-of-type {\n",
       "        vertical-align: middle;\n",
       "    }\n",
       "\n",
       "    .dataframe tbody tr th {\n",
       "        vertical-align: top;\n",
       "    }\n",
       "\n",
       "    .dataframe thead th {\n",
       "        text-align: right;\n",
       "    }\n",
       "</style>\n",
       "<table border=\"1\" class=\"dataframe\">\n",
       "  <thead>\n",
       "    <tr style=\"text-align: right;\">\n",
       "      <th></th>\n",
       "      <th>cluster_id</th>\n",
       "      <th>child_mort_mean</th>\n",
       "      <th>exports_mean</th>\n",
       "      <th>imports_mean</th>\n",
       "      <th>health_mean</th>\n",
       "      <th>income_mean</th>\n",
       "      <th>inflation_mean</th>\n",
       "      <th>life_expec_mean</th>\n",
       "      <th>total_fer_mean</th>\n",
       "      <th>gdpp_mean</th>\n",
       "    </tr>\n",
       "  </thead>\n",
       "  <tbody>\n",
       "    <tr>\n",
       "      <th>0</th>\n",
       "      <td>0</td>\n",
       "      <td>90.896000</td>\n",
       "      <td>28.154380</td>\n",
       "      <td>41.499318</td>\n",
       "      <td>6.245200</td>\n",
       "      <td>3910.660000</td>\n",
       "      <td>11.868900</td>\n",
       "      <td>59.688000</td>\n",
       "      <td>4.878000</td>\n",
       "      <td>1868.560000</td>\n",
       "    </tr>\n",
       "    <tr>\n",
       "      <th>1</th>\n",
       "      <td>1</td>\n",
       "      <td>5.237838</td>\n",
       "      <td>58.097297</td>\n",
       "      <td>51.281081</td>\n",
       "      <td>8.782973</td>\n",
       "      <td>45056.756757</td>\n",
       "      <td>2.588432</td>\n",
       "      <td>79.956757</td>\n",
       "      <td>1.755676</td>\n",
       "      <td>42102.702703</td>\n",
       "    </tr>\n",
       "    <tr>\n",
       "      <th>2</th>\n",
       "      <td>2</td>\n",
       "      <td>20.656250</td>\n",
       "      <td>41.348500</td>\n",
       "      <td>48.228750</td>\n",
       "      <td>6.262375</td>\n",
       "      <td>12506.625000</td>\n",
       "      <td>7.629362</td>\n",
       "      <td>73.000000</td>\n",
       "      <td>2.293125</td>\n",
       "      <td>6422.325000</td>\n",
       "    </tr>\n",
       "  </tbody>\n",
       "</table>\n",
       "</div>"
      ],
      "text/plain": [
       "   cluster_id  child_mort_mean  exports_mean  imports_mean  health_mean  \\\n",
       "0           0        90.896000     28.154380     41.499318     6.245200   \n",
       "1           1         5.237838     58.097297     51.281081     8.782973   \n",
       "2           2        20.656250     41.348500     48.228750     6.262375   \n",
       "\n",
       "    income_mean  inflation_mean  life_expec_mean  total_fer_mean     gdpp_mean  \n",
       "0   3910.660000       11.868900        59.688000        4.878000   1868.560000  \n",
       "1  45056.756757        2.588432        79.956757        1.755676  42102.702703  \n",
       "2  12506.625000        7.629362        73.000000        2.293125   6422.325000  "
      ]
     },
     "execution_count": 34,
     "metadata": {},
     "output_type": "execute_result"
    }
   ],
   "source": [
    "km_cluster_child_mort = pd.DataFrame(clustered_data_km.groupby(['cluster_id']).child_mort.mean())\n",
    "km_cluster_exports = pd.DataFrame(clustered_data_km.groupby(['cluster_id']).exports.mean())\n",
    "km_cluster_imports = pd.DataFrame(clustered_data_km.groupby(['cluster_id']).imports.mean())\n",
    "km_cluster_health = pd.DataFrame(clustered_data_km.groupby(['cluster_id']).health.mean())\n",
    "km_cluster_income = pd.DataFrame(clustered_data_km.groupby(['cluster_id']).income.mean())\n",
    "km_cluster_inflation = pd.DataFrame(clustered_data_km.groupby(['cluster_id']).inflation.mean())\n",
    "km_cluster_life_expec = pd.DataFrame(clustered_data_km.groupby(['cluster_id']).life_expec.mean())\n",
    "km_cluster_total_fer = pd.DataFrame(clustered_data_km.groupby(['cluster_id']).total_fer.mean())\n",
    "km_cluster_gdpp = pd.DataFrame(clustered_data_km.groupby(['cluster_id']).gdpp.mean())\n",
    "\n",
    "df_km = pd.concat([pd.Series([0,1,2]), km_cluster_child_mort, km_cluster_exports, km_cluster_imports, \n",
    "               km_cluster_health, km_cluster_income, km_cluster_inflation, km_cluster_life_expec, km_cluster_total_fer, \n",
    "               km_cluster_gdpp], axis = 1)\n",
    "df_km.columns = ['cluster_id', 'child_mort_mean', 'exports_mean', 'imports_mean', 'health_mean', \n",
    "              'income_mean', 'inflation_mean', 'life_expec_mean', 'total_fer_mean', 'gdpp_mean'] \n",
    "df_km"
   ]
  },
  {
   "cell_type": "code",
   "execution_count": 35,
   "id": "d63904cb",
   "metadata": {},
   "outputs": [
    {
     "data": {
      "text/plain": [
       "<AxesSubplot:xlabel='cluster_id', ylabel='gdpp_mean'>"
      ]
     },
     "execution_count": 35,
     "metadata": {},
     "output_type": "execute_result"
    },
    {
     "data": {
      "image/png": "[encoded data removed]",
      "text/plain": [
       "<Figure size 1080x1080 with 9 Axes>"
      ]
     },
     "metadata": {
      "needs_background": "light"
     },
     "output_type": "display_data"
    }
   ],
   "source": [
    "fig, ax = plt.subplots(3, 3, figsize = (15, 15))\n",
    "\n",
    "sns.barplot(x = 'cluster_id', y = 'child_mort_mean', data = df_km, ax = ax[0,0])\n",
    "sns.barplot(x = 'cluster_id', y = 'exports_mean', data = df_km, ax = ax[0,1])\n",
    "sns.barplot(x = 'cluster_id', y = 'imports_mean', data = df_km, ax = ax[0,2])\n",
    "sns.barplot(x = 'cluster_id', y = 'health_mean', data = df_km, ax = ax[1,0])\n",
    "sns.barplot(x = 'cluster_id', y = 'income_mean', data = df_km, ax = ax[1,1])\n",
    "sns.barplot(x = 'cluster_id', y = 'inflation_mean', data = df_km, ax = ax[1,2])\n",
    "sns.barplot(x = 'cluster_id', y = 'life_expec_mean', data = df_km, ax = ax[2,0])\n",
    "sns.barplot(x = 'cluster_id', y = 'total_fer_mean', data = df_km, ax = ax[2,1])\n",
    "sns.barplot(x = 'cluster_id', y = 'gdpp_mean', data = df_km, ax = ax[2,2])"
   ]
  },
  {
   "cell_type": "markdown",
   "id": "866ccae4",
   "metadata": {},
   "source": [
    "Cluster with cluster_id = 0 is the cluster of most backward countries"
   ]
  },
  {
   "cell_type": "code",
   "execution_count": 36,
   "id": "5c5e57b0",
   "metadata": {},
   "outputs": [
    {
     "data": {
      "text/plain": [
       "array(['Afghanistan', 'Angola', 'Benin', 'Botswana', 'Burkina Faso',\n",
       "       'Burundi', 'Cameroon', 'Central African Republic', 'Chad',\n",
       "       'Comoros', 'Congo, Dem. Rep.', 'Congo, Rep.', \"Cote d'Ivoire\",\n",
       "       'Equatorial Guinea', 'Eritrea', 'Gabon', 'Gambia', 'Ghana',\n",
       "       'Guinea', 'Guinea-Bissau', 'Haiti', 'India', 'Iraq', 'Kenya',\n",
       "       'Kiribati', 'Lao', 'Lesotho', 'Liberia', 'Madagascar', 'Malawi',\n",
       "       'Mali', 'Mauritania', 'Mozambique', 'Myanmar', 'Namibia', 'Niger',\n",
       "       'Nigeria', 'Pakistan', 'Rwanda', 'Senegal', 'Sierra Leone',\n",
       "       'South Africa', 'Sudan', 'Tajikistan', 'Tanzania', 'Timor-Leste',\n",
       "       'Togo', 'Uganda', 'Yemen', 'Zambia'], dtype=object)"
      ]
     },
     "execution_count": 36,
     "metadata": {},
     "output_type": "execute_result"
    }
   ],
   "source": [
    "cluster_0_km = clustered_data_km[clustered_data_km['cluster_id'] == 0]['country'].values\n",
    "cluster_0_km"
   ]
  },
  {
   "cell_type": "code",
   "execution_count": 37,
   "id": "57dc70e6",
   "metadata": {},
   "outputs": [
    {
     "data": {
      "text/plain": [
       "50"
      ]
     },
     "execution_count": 37,
     "metadata": {},
     "output_type": "execute_result"
    }
   ],
   "source": [
    "len(cluster_0_km)"
   ]
  },
  {
   "cell_type": "markdown",
   "id": "4ee2fe6a",
   "metadata": {},
   "source": [
    "## Hierarchical Clustering"
   ]
  },
  {
   "cell_type": "code",
   "execution_count": 38,
   "id": "4ceb2d2b",
   "metadata": {},
   "outputs": [
    {
     "data": {
      "image/png": "[encoded data removed]",
      "text/plain": [
       "<Figure size 720x432 with 1 Axes>"
      ]
     },
     "metadata": {
      "needs_background": "light"
     },
     "output_type": "display_data"
    }
   ],
   "source": [
    "from scipy.cluster.hierarchy import dendrogram, linkage, cut_tree\n",
    "\n",
    "linked = linkage(df_pca, method = 'ward', metric = 'euclidean')\n",
    "plt.figure(figsize = (10,6))\n",
    "dendrogram(linked)\n",
    "plt.show()"
   ]
  },
  {
   "cell_type": "markdown",
   "id": "f9312414",
   "metadata": {},
   "source": [
    "From the plot, the optimum no.of clusters = 3"
   ]
  },
  {
   "cell_type": "code",
   "execution_count": 39,
   "id": "8d3b7e1b",
   "metadata": {},
   "outputs": [],
   "source": [
    "from sklearn.cluster import AgglomerativeClustering as agg"
   ]
  },
  {
   "cell_type": "code",
   "execution_count": 40,
   "id": "de57fd5a",
   "metadata": {},
   "outputs": [
    {
     "data": {
      "text/plain": [
       "array([1, 0, 0, 1, 0, 0, 0, 2, 2, 0, 0, 2, 0, 0, 0, 2, 0, 1, 0, 0, 0, 1,\n",
       "       0, 2, 0, 1, 1, 0, 1, 2, 0, 1, 1, 0, 0, 0, 1, 1, 1, 0, 1, 0, 0, 0,\n",
       "       2, 0, 0, 0, 0, 1, 0, 0, 0, 2, 2, 1, 1, 0, 2, 1, 2, 0, 0, 1, 1, 0,\n",
       "       1, 0, 2, 0, 0, 0, 1, 2, 0, 2, 0, 2, 0, 0, 1, 1, 2, 0, 1, 0, 0, 1,\n",
       "       1, 2, 0, 2, 0, 1, 1, 0, 0, 1, 0, 1, 0, 1, 0, 0, 0, 0, 1, 0, 1, 0,\n",
       "       2, 2, 1, 1, 2, 2, 0, 0, 0, 0, 0, 0, 2, 2, 0, 0, 1, 0, 2, 1, 0, 0,\n",
       "       1, 2, 0, 0, 0, 1, 0, 2, 0, 0, 1, 0, 2, 2, 0, 1, 0, 1, 1, 0, 0, 0,\n",
       "       0, 1, 0, 2, 2, 2, 0, 0, 0, 0, 0, 1, 1], dtype=int64)"
      ]
     },
     "execution_count": 40,
     "metadata": {},
     "output_type": "execute_result"
    }
   ],
   "source": [
    "agg_model = agg(n_clusters = 3, affinity = 'euclidean', linkage = 'ward')\n",
    "agg_labels = agg_model.fit_predict(df_pca)\n",
    "agg_labels"
   ]
  },
  {
   "cell_type": "code",
   "execution_count": 41,
   "id": "11e0ab26",
   "metadata": {},
   "outputs": [
    {
     "data": {
      "image/png": "[encoded data removed]",
      "text/plain": [
       "<Figure size 1440x432 with 1 Axes>"
      ]
     },
     "metadata": {
      "needs_background": "light"
     },
     "output_type": "display_data"
    }
   ],
   "source": [
    "plt.figure(figsize = (20,6))\n",
    "\n",
    "plt.scatter(d[agg_labels == 0,0], d[agg_labels == 0,1], c = 'red', label = 'cluster1')\n",
    "plt.scatter(d[agg_labels == 1,0], d[agg_labels == 1,1], c = 'green', label = 'cluster2')\n",
    "plt.scatter(d[agg_labels == 2,0], d[agg_labels == 2,1], c = 'cyan', label = 'cluster3')\n",
    "\n",
    "plt.legend()\n",
    "plt.show()\n"
   ]
  },
  {
   "cell_type": "markdown",
   "id": "4eda11d4",
   "metadata": {},
   "source": [
    "### Checking the efficiency"
   ]
  },
  {
   "cell_type": "code",
   "execution_count": 42,
   "id": "8e72a5ed",
   "metadata": {},
   "outputs": [
    {
     "name": "stdout",
     "output_type": "stream",
     "text": [
      "Silhouette score =  0.27934224784271666\n",
      "DB index =  1.250577180655424\n"
     ]
    }
   ],
   "source": [
    "print('Silhouette score = ', ss(df_pca, agg_labels))\n",
    "print('DB index = ', db(df_pca, agg_labels))"
   ]
  },
  {
   "cell_type": "markdown",
   "id": "65726b8e",
   "metadata": {},
   "source": [
    "### Identifying the cluster of backward countries"
   ]
  },
  {
   "cell_type": "code",
   "execution_count": 43,
   "id": "2b56548b",
   "metadata": {},
   "outputs": [
    {
     "data": {
      "text/html": [
       "<div>\n",
       "<style scoped>\n",
       "    .dataframe tbody tr th:only-of-type {\n",
       "        vertical-align: middle;\n",
       "    }\n",
       "\n",
       "    .dataframe tbody tr th {\n",
       "        vertical-align: top;\n",
       "    }\n",
       "\n",
       "    .dataframe thead th {\n",
       "        text-align: right;\n",
       "    }\n",
       "</style>\n",
       "<table border=\"1\" class=\"dataframe\">\n",
       "  <thead>\n",
       "    <tr style=\"text-align: right;\">\n",
       "      <th></th>\n",
       "      <th>PC1</th>\n",
       "      <th>PC2</th>\n",
       "      <th>PC3</th>\n",
       "      <th>PC4</th>\n",
       "      <th>PC5</th>\n",
       "      <th>cluster_id</th>\n",
       "    </tr>\n",
       "  </thead>\n",
       "  <tbody>\n",
       "    <tr>\n",
       "      <th>0</th>\n",
       "      <td>-3.276710</td>\n",
       "      <td>0.384825</td>\n",
       "      <td>-1.061693</td>\n",
       "      <td>0.915760</td>\n",
       "      <td>0.055815</td>\n",
       "      <td>1</td>\n",
       "    </tr>\n",
       "    <tr>\n",
       "      <th>1</th>\n",
       "      <td>0.482592</td>\n",
       "      <td>0.138345</td>\n",
       "      <td>-0.315498</td>\n",
       "      <td>-1.429981</td>\n",
       "      <td>0.101463</td>\n",
       "      <td>0</td>\n",
       "    </tr>\n",
       "    <tr>\n",
       "      <th>2</th>\n",
       "      <td>-0.447438</td>\n",
       "      <td>0.492021</td>\n",
       "      <td>1.777013</td>\n",
       "      <td>-0.669628</td>\n",
       "      <td>0.517964</td>\n",
       "      <td>0</td>\n",
       "    </tr>\n",
       "    <tr>\n",
       "      <th>3</th>\n",
       "      <td>-3.356983</td>\n",
       "      <td>-1.158613</td>\n",
       "      <td>2.059427</td>\n",
       "      <td>1.732923</td>\n",
       "      <td>0.080301</td>\n",
       "      <td>1</td>\n",
       "    </tr>\n",
       "    <tr>\n",
       "      <th>4</th>\n",
       "      <td>1.244934</td>\n",
       "      <td>-0.702870</td>\n",
       "      <td>-0.223665</td>\n",
       "      <td>-0.743702</td>\n",
       "      <td>-0.444204</td>\n",
       "      <td>0</td>\n",
       "    </tr>\n",
       "  </tbody>\n",
       "</table>\n",
       "</div>"
      ],
      "text/plain": [
       "        PC1       PC2       PC3       PC4       PC5  cluster_id\n",
       "0 -3.276710  0.384825 -1.061693  0.915760  0.055815           1\n",
       "1  0.482592  0.138345 -0.315498 -1.429981  0.101463           0\n",
       "2 -0.447438  0.492021  1.777013 -0.669628  0.517964           0\n",
       "3 -3.356983 -1.158613  2.059427  1.732923  0.080301           1\n",
       "4  1.244934 -0.702870 -0.223665 -0.743702 -0.444204           0"
      ]
     },
     "execution_count": 43,
     "metadata": {},
     "output_type": "execute_result"
    }
   ],
   "source": [
    "df_pca_hc = pd.concat([df_pca, pd.Series(agg_labels)], axis = 1)\n",
    "df_pca_hc.columns = ['PC1','PC2','PC3','PC4','PC5','cluster_id']\n",
    "df_pca_hc.head()"
   ]
  },
  {
   "cell_type": "code",
   "execution_count": 44,
   "id": "1803d289",
   "metadata": {},
   "outputs": [
    {
     "data": {
      "text/html": [
       "<div>\n",
       "<style scoped>\n",
       "    .dataframe tbody tr th:only-of-type {\n",
       "        vertical-align: middle;\n",
       "    }\n",
       "\n",
       "    .dataframe tbody tr th {\n",
       "        vertical-align: top;\n",
       "    }\n",
       "\n",
       "    .dataframe thead th {\n",
       "        text-align: right;\n",
       "    }\n",
       "</style>\n",
       "<table border=\"1\" class=\"dataframe\">\n",
       "  <thead>\n",
       "    <tr style=\"text-align: right;\">\n",
       "      <th></th>\n",
       "      <th>country</th>\n",
       "      <th>PC1</th>\n",
       "      <th>PC2</th>\n",
       "      <th>PC3</th>\n",
       "      <th>PC4</th>\n",
       "      <th>PC5</th>\n",
       "      <th>cluster_id</th>\n",
       "    </tr>\n",
       "  </thead>\n",
       "  <tbody>\n",
       "    <tr>\n",
       "      <th>0</th>\n",
       "      <td>Afghanistan</td>\n",
       "      <td>-3.276710</td>\n",
       "      <td>0.384825</td>\n",
       "      <td>-1.061693</td>\n",
       "      <td>0.915760</td>\n",
       "      <td>0.055815</td>\n",
       "      <td>1</td>\n",
       "    </tr>\n",
       "    <tr>\n",
       "      <th>1</th>\n",
       "      <td>Albania</td>\n",
       "      <td>0.482592</td>\n",
       "      <td>0.138345</td>\n",
       "      <td>-0.315498</td>\n",
       "      <td>-1.429981</td>\n",
       "      <td>0.101463</td>\n",
       "      <td>0</td>\n",
       "    </tr>\n",
       "    <tr>\n",
       "      <th>2</th>\n",
       "      <td>Algeria</td>\n",
       "      <td>-0.447438</td>\n",
       "      <td>0.492021</td>\n",
       "      <td>1.777013</td>\n",
       "      <td>-0.669628</td>\n",
       "      <td>0.517964</td>\n",
       "      <td>0</td>\n",
       "    </tr>\n",
       "    <tr>\n",
       "      <th>3</th>\n",
       "      <td>Angola</td>\n",
       "      <td>-3.356983</td>\n",
       "      <td>-1.158613</td>\n",
       "      <td>2.059427</td>\n",
       "      <td>1.732923</td>\n",
       "      <td>0.080301</td>\n",
       "      <td>1</td>\n",
       "    </tr>\n",
       "    <tr>\n",
       "      <th>4</th>\n",
       "      <td>Antigua and Barbuda</td>\n",
       "      <td>1.244934</td>\n",
       "      <td>-0.702870</td>\n",
       "      <td>-0.223665</td>\n",
       "      <td>-0.743702</td>\n",
       "      <td>-0.444204</td>\n",
       "      <td>0</td>\n",
       "    </tr>\n",
       "  </tbody>\n",
       "</table>\n",
       "</div>"
      ],
      "text/plain": [
       "               country       PC1       PC2       PC3       PC4       PC5  \\\n",
       "0          Afghanistan -3.276710  0.384825 -1.061693  0.915760  0.055815   \n",
       "1              Albania  0.482592  0.138345 -0.315498 -1.429981  0.101463   \n",
       "2              Algeria -0.447438  0.492021  1.777013 -0.669628  0.517964   \n",
       "3               Angola -3.356983 -1.158613  2.059427  1.732923  0.080301   \n",
       "4  Antigua and Barbuda  1.244934 -0.702870 -0.223665 -0.743702 -0.444204   \n",
       "\n",
       "   cluster_id  \n",
       "0           1  \n",
       "1           0  \n",
       "2           0  \n",
       "3           1  \n",
       "4           0  "
      ]
     },
     "execution_count": 44,
     "metadata": {},
     "output_type": "execute_result"
    }
   ],
   "source": [
    "pca_cluster_hc = pd.concat([data1['country'], df_pca_hc], axis = 1, join = 'outer',\n",
    "                           ignore_index = False, keys = None, levels = None, names = None,\n",
    "                          verify_integrity = False, sort = None, copy = True)\n",
    "pca_cluster_hc.head()"
   ]
  },
  {
   "cell_type": "code",
   "execution_count": 45,
   "id": "a71fe31d",
   "metadata": {},
   "outputs": [
    {
     "data": {
      "text/html": [
       "<div>\n",
       "<style scoped>\n",
       "    .dataframe tbody tr th:only-of-type {\n",
       "        vertical-align: middle;\n",
       "    }\n",
       "\n",
       "    .dataframe tbody tr th {\n",
       "        vertical-align: top;\n",
       "    }\n",
       "\n",
       "    .dataframe thead th {\n",
       "        text-align: right;\n",
       "    }\n",
       "</style>\n",
       "<table border=\"1\" class=\"dataframe\">\n",
       "  <thead>\n",
       "    <tr style=\"text-align: right;\">\n",
       "      <th></th>\n",
       "      <th>country</th>\n",
       "      <th>cluster_id</th>\n",
       "      <th>child_mort</th>\n",
       "      <th>exports</th>\n",
       "      <th>health</th>\n",
       "      <th>imports</th>\n",
       "      <th>income</th>\n",
       "      <th>inflation</th>\n",
       "      <th>life_expec</th>\n",
       "      <th>total_fer</th>\n",
       "      <th>gdpp</th>\n",
       "    </tr>\n",
       "  </thead>\n",
       "  <tbody>\n",
       "    <tr>\n",
       "      <th>0</th>\n",
       "      <td>Afghanistan</td>\n",
       "      <td>1</td>\n",
       "      <td>90.2</td>\n",
       "      <td>10.0</td>\n",
       "      <td>7.58</td>\n",
       "      <td>44.9</td>\n",
       "      <td>1610</td>\n",
       "      <td>9.44</td>\n",
       "      <td>56.2</td>\n",
       "      <td>5.82</td>\n",
       "      <td>553</td>\n",
       "    </tr>\n",
       "    <tr>\n",
       "      <th>1</th>\n",
       "      <td>Albania</td>\n",
       "      <td>0</td>\n",
       "      <td>16.6</td>\n",
       "      <td>28.0</td>\n",
       "      <td>6.55</td>\n",
       "      <td>48.6</td>\n",
       "      <td>9930</td>\n",
       "      <td>4.49</td>\n",
       "      <td>76.3</td>\n",
       "      <td>1.65</td>\n",
       "      <td>4090</td>\n",
       "    </tr>\n",
       "    <tr>\n",
       "      <th>2</th>\n",
       "      <td>Algeria</td>\n",
       "      <td>0</td>\n",
       "      <td>27.3</td>\n",
       "      <td>38.4</td>\n",
       "      <td>4.17</td>\n",
       "      <td>31.4</td>\n",
       "      <td>12900</td>\n",
       "      <td>16.10</td>\n",
       "      <td>76.5</td>\n",
       "      <td>2.89</td>\n",
       "      <td>4460</td>\n",
       "    </tr>\n",
       "    <tr>\n",
       "      <th>3</th>\n",
       "      <td>Angola</td>\n",
       "      <td>1</td>\n",
       "      <td>119.0</td>\n",
       "      <td>62.3</td>\n",
       "      <td>2.85</td>\n",
       "      <td>42.9</td>\n",
       "      <td>5900</td>\n",
       "      <td>22.40</td>\n",
       "      <td>60.1</td>\n",
       "      <td>6.16</td>\n",
       "      <td>3530</td>\n",
       "    </tr>\n",
       "    <tr>\n",
       "      <th>4</th>\n",
       "      <td>Antigua and Barbuda</td>\n",
       "      <td>0</td>\n",
       "      <td>10.3</td>\n",
       "      <td>45.5</td>\n",
       "      <td>6.03</td>\n",
       "      <td>58.9</td>\n",
       "      <td>19100</td>\n",
       "      <td>1.44</td>\n",
       "      <td>76.8</td>\n",
       "      <td>2.13</td>\n",
       "      <td>12200</td>\n",
       "    </tr>\n",
       "  </tbody>\n",
       "</table>\n",
       "</div>"
      ],
      "text/plain": [
       "               country  cluster_id  child_mort  exports  health  imports  \\\n",
       "0          Afghanistan           1        90.2     10.0    7.58     44.9   \n",
       "1              Albania           0        16.6     28.0    6.55     48.6   \n",
       "2              Algeria           0        27.3     38.4    4.17     31.4   \n",
       "3               Angola           1       119.0     62.3    2.85     42.9   \n",
       "4  Antigua and Barbuda           0        10.3     45.5    6.03     58.9   \n",
       "\n",
       "   income  inflation  life_expec  total_fer   gdpp  \n",
       "0    1610       9.44        56.2       5.82    553  \n",
       "1    9930       4.49        76.3       1.65   4090  \n",
       "2   12900      16.10        76.5       2.89   4460  \n",
       "3    5900      22.40        60.1       6.16   3530  \n",
       "4   19100       1.44        76.8       2.13  12200  "
      ]
     },
     "execution_count": 45,
     "metadata": {},
     "output_type": "execute_result"
    }
   ],
   "source": [
    "clustered_data_hc = pca_cluster_hc[['country', 'cluster_id']].merge(data, on = 'country')\n",
    "clustered_data_hc.head()"
   ]
  },
  {
   "cell_type": "code",
   "execution_count": 46,
   "id": "2ed4e492",
   "metadata": {},
   "outputs": [
    {
     "data": {
      "text/html": [
       "<div>\n",
       "<style scoped>\n",
       "    .dataframe tbody tr th:only-of-type {\n",
       "        vertical-align: middle;\n",
       "    }\n",
       "\n",
       "    .dataframe tbody tr th {\n",
       "        vertical-align: top;\n",
       "    }\n",
       "\n",
       "    .dataframe thead th {\n",
       "        text-align: right;\n",
       "    }\n",
       "</style>\n",
       "<table border=\"1\" class=\"dataframe\">\n",
       "  <thead>\n",
       "    <tr style=\"text-align: right;\">\n",
       "      <th></th>\n",
       "      <th>cluster_id</th>\n",
       "      <th>child_mort_mean</th>\n",
       "      <th>exports_mean</th>\n",
       "      <th>imports_mean</th>\n",
       "      <th>health_mean</th>\n",
       "      <th>income_mean</th>\n",
       "      <th>inflation_mean</th>\n",
       "      <th>life_expec_mean</th>\n",
       "      <th>total_fer_mean</th>\n",
       "      <th>gdpp_mean</th>\n",
       "    </tr>\n",
       "  </thead>\n",
       "  <tbody>\n",
       "    <tr>\n",
       "      <th>0</th>\n",
       "      <td>0</td>\n",
       "      <td>21.774157</td>\n",
       "      <td>41.444708</td>\n",
       "      <td>48.622089</td>\n",
       "      <td>6.245618</td>\n",
       "      <td>12585.730337</td>\n",
       "      <td>6.955213</td>\n",
       "      <td>73.088764</td>\n",
       "      <td>2.270899</td>\n",
       "      <td>7384.539326</td>\n",
       "    </tr>\n",
       "    <tr>\n",
       "      <th>1</th>\n",
       "      <td>1</td>\n",
       "      <td>92.650000</td>\n",
       "      <td>29.898261</td>\n",
       "      <td>44.076087</td>\n",
       "      <td>6.730435</td>\n",
       "      <td>3976.804348</td>\n",
       "      <td>11.874457</td>\n",
       "      <td>59.134783</td>\n",
       "      <td>5.008261</td>\n",
       "      <td>1993.260870</td>\n",
       "    </tr>\n",
       "    <tr>\n",
       "      <th>2</th>\n",
       "      <td>2</td>\n",
       "      <td>5.978125</td>\n",
       "      <td>56.290625</td>\n",
       "      <td>46.118750</td>\n",
       "      <td>8.523750</td>\n",
       "      <td>48753.125000</td>\n",
       "      <td>4.197719</td>\n",
       "      <td>79.928125</td>\n",
       "      <td>1.869375</td>\n",
       "      <td>44253.125000</td>\n",
       "    </tr>\n",
       "  </tbody>\n",
       "</table>\n",
       "</div>"
      ],
      "text/plain": [
       "   cluster_id  child_mort_mean  exports_mean  imports_mean  health_mean  \\\n",
       "0           0        21.774157     41.444708     48.622089     6.245618   \n",
       "1           1        92.650000     29.898261     44.076087     6.730435   \n",
       "2           2         5.978125     56.290625     46.118750     8.523750   \n",
       "\n",
       "    income_mean  inflation_mean  life_expec_mean  total_fer_mean     gdpp_mean  \n",
       "0  12585.730337        6.955213        73.088764        2.270899   7384.539326  \n",
       "1   3976.804348       11.874457        59.134783        5.008261   1993.260870  \n",
       "2  48753.125000        4.197719        79.928125        1.869375  44253.125000  "
      ]
     },
     "execution_count": 46,
     "metadata": {},
     "output_type": "execute_result"
    }
   ],
   "source": [
    "hc_cluster_child_mort = pd.DataFrame(clustered_data_hc.groupby(['cluster_id']).child_mort.mean())\n",
    "hc_cluster_exports = pd.DataFrame(clustered_data_hc.groupby(['cluster_id']).exports.mean())\n",
    "hc_cluster_imports = pd.DataFrame(clustered_data_hc.groupby(['cluster_id']).imports.mean())\n",
    "hc_cluster_health = pd.DataFrame(clustered_data_hc.groupby(['cluster_id']).health.mean())\n",
    "hc_cluster_income = pd.DataFrame(clustered_data_hc.groupby(['cluster_id']).income.mean())\n",
    "hc_cluster_inflation = pd.DataFrame(clustered_data_hc.groupby(['cluster_id']).inflation.mean())\n",
    "hc_cluster_life_expec = pd.DataFrame(clustered_data_hc.groupby(['cluster_id']).life_expec.mean())\n",
    "hc_cluster_total_fer = pd.DataFrame(clustered_data_hc.groupby(['cluster_id']).total_fer.mean())\n",
    "hc_cluster_gdpp = pd.DataFrame(clustered_data_hc.groupby(['cluster_id']).gdpp.mean())\n",
    "\n",
    "df_hc = pd.concat([pd.Series([0,1,2]), hc_cluster_child_mort, hc_cluster_exports, hc_cluster_imports, \n",
    "               hc_cluster_health, hc_cluster_income, hc_cluster_inflation, hc_cluster_life_expec, hc_cluster_total_fer, \n",
    "               hc_cluster_gdpp], axis = 1)\n",
    "df_hc.columns = ['cluster_id', 'child_mort_mean', 'exports_mean', 'imports_mean', 'health_mean', \n",
    "              'income_mean', 'inflation_mean', 'life_expec_mean', 'total_fer_mean', 'gdpp_mean'] \n",
    "df_hc"
   ]
  },
  {
   "cell_type": "code",
   "execution_count": 47,
   "id": "48faffa3",
   "metadata": {},
   "outputs": [
    {
     "data": {
      "text/plain": [
       "<AxesSubplot:xlabel='cluster_id', ylabel='gdpp_mean'>"
      ]
     },
     "execution_count": 47,
     "metadata": {},
     "output_type": "execute_result"
    },
    {
     "data": {
      "image/png": "[encoded data removed]",
      "text/plain": [
       "<Figure size 1080x1080 with 9 Axes>"
      ]
     },
     "metadata": {
      "needs_background": "light"
     },
     "output_type": "display_data"
    }
   ],
   "source": [
    "fig, ax = plt.subplots(3, 3, figsize = (15, 15))\n",
    "\n",
    "sns.barplot(x = 'cluster_id', y = 'child_mort_mean', data = df_hc, ax = ax[0,0])\n",
    "sns.barplot(x = 'cluster_id', y = 'exports_mean', data = df_hc, ax = ax[0,1])\n",
    "sns.barplot(x = 'cluster_id', y = 'imports_mean', data = df_hc, ax = ax[0,2])\n",
    "sns.barplot(x = 'cluster_id', y = 'health_mean', data = df_hc, ax = ax[1,0])\n",
    "sns.barplot(x = 'cluster_id', y = 'income_mean', data = df_hc, ax = ax[1,1])\n",
    "sns.barplot(x = 'cluster_id', y = 'inflation_mean', data = df_hc, ax = ax[1,2])\n",
    "sns.barplot(x = 'cluster_id', y = 'life_expec_mean', data = df_hc, ax = ax[2,0])\n",
    "sns.barplot(x = 'cluster_id', y = 'total_fer_mean', data = df_hc, ax = ax[2,1])\n",
    "sns.barplot(x = 'cluster_id', y = 'gdpp_mean', data = df_hc, ax = ax[2,2])"
   ]
  },
  {
   "cell_type": "markdown",
   "id": "3e86b139",
   "metadata": {},
   "source": [
    "Cluster with cluster_id = 1 is the cluster of most backward countries"
   ]
  },
  {
   "cell_type": "code",
   "execution_count": 48,
   "id": "a34ce92f",
   "metadata": {},
   "outputs": [
    {
     "data": {
      "text/plain": [
       "array(['Afghanistan', 'Angola', 'Benin', 'Botswana', 'Burkina Faso',\n",
       "       'Burundi', 'Cameroon', 'Central African Republic', 'Chad',\n",
       "       'Comoros', 'Congo, Dem. Rep.', 'Congo, Rep.', \"Cote d'Ivoire\",\n",
       "       'Equatorial Guinea', 'Gabon', 'Gambia', 'Ghana', 'Guinea',\n",
       "       'Guinea-Bissau', 'Haiti', 'Iraq', 'Kenya', 'Kiribati', 'Lao',\n",
       "       'Lesotho', 'Liberia', 'Madagascar', 'Malawi', 'Mali', 'Mauritania',\n",
       "       'Micronesia, Fed. Sts.', 'Mozambique', 'Namibia', 'Niger',\n",
       "       'Nigeria', 'Rwanda', 'Senegal', 'Sierra Leone', 'South Africa',\n",
       "       'Sudan', 'Tanzania', 'Timor-Leste', 'Togo', 'Uganda', 'Yemen',\n",
       "       'Zambia'], dtype=object)"
      ]
     },
     "execution_count": 48,
     "metadata": {},
     "output_type": "execute_result"
    }
   ],
   "source": [
    "cluster_1 = clustered_data_hc[clustered_data_hc['cluster_id'] == 1]['country'].values\n",
    "cluster_1"
   ]
  },
  {
   "cell_type": "code",
   "execution_count": 49,
   "id": "05e4a97c",
   "metadata": {},
   "outputs": [
    {
     "data": {
      "text/plain": [
       "46"
      ]
     },
     "execution_count": 49,
     "metadata": {},
     "output_type": "execute_result"
    }
   ],
   "source": [
    "len(cluster_1)"
   ]
  },
  {
   "cell_type": "markdown",
   "id": "c1ced15a",
   "metadata": {},
   "source": [
    "On comapring the performance of the two models we created, KMeans model is the better model. So we can select the cluster1 of kmeans model as the cluster of backward countries.\n",
    "\n",
    "Hence the countries on which we require to focus more are:"
   ]
  },
  {
   "cell_type": "code",
   "execution_count": 50,
   "id": "12237880",
   "metadata": {},
   "outputs": [
    {
     "data": {
      "text/plain": [
       "array(['Afghanistan', 'Angola', 'Benin', 'Botswana', 'Burkina Faso',\n",
       "       'Burundi', 'Cameroon', 'Central African Republic', 'Chad',\n",
       "       'Comoros', 'Congo, Dem. Rep.', 'Congo, Rep.', \"Cote d'Ivoire\",\n",
       "       'Equatorial Guinea', 'Eritrea', 'Gabon', 'Gambia', 'Ghana',\n",
       "       'Guinea', 'Guinea-Bissau', 'Haiti', 'India', 'Iraq', 'Kenya',\n",
       "       'Kiribati', 'Lao', 'Lesotho', 'Liberia', 'Madagascar', 'Malawi',\n",
       "       'Mali', 'Mauritania', 'Mozambique', 'Myanmar', 'Namibia', 'Niger',\n",
       "       'Nigeria', 'Pakistan', 'Rwanda', 'Senegal', 'Sierra Leone',\n",
       "       'South Africa', 'Sudan', 'Tajikistan', 'Tanzania', 'Timor-Leste',\n",
       "       'Togo', 'Uganda', 'Yemen', 'Zambia'], dtype=object)"
      ]
     },
     "execution_count": 50,
     "metadata": {},
     "output_type": "execute_result"
    }
   ],
   "source": [
    "cluster_0_km"
   ]
  },
  {
   "cell_type": "code",
   "execution_count": null,
   "id": "428e56a6",
   "metadata": {},
   "outputs": [],
   "source": []
  },
  {
   "cell_type": "code",
   "execution_count": null,
   "id": "869ea514",
   "metadata": {},
   "outputs": [],
   "source": []
  }
 ],
 "metadata": {
  "kernelspec": {
   "display_name": "Python 3",
   "language": "python",
   "name": "python3"
  },
  "language_info": {
   "codemirror_mode": {
    "name": "ipython",
    "version": 3
   },
   "file_extension": ".py",
   "mimetype": "text/x-python",
   "name": "python",
   "nbconvert_exporter": "python",
   "pygments_lexer": "ipython3",
   "version": "3.8.8"
  }
 },
 "nbformat": 4,
 "nbformat_minor": 5
}
